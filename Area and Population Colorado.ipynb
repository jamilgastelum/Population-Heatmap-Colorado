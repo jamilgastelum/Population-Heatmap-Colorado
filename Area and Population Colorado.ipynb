{
 "cells": [
  {
   "cell_type": "code",
   "execution_count": 1,
   "id": "c2e96898",
   "metadata": {},
   "outputs": [],
   "source": [
    "import pandas as pd"
   ]
  },
  {
   "cell_type": "code",
   "execution_count": 2,
   "id": "8a3ec424",
   "metadata": {
    "scrolled": false
   },
   "outputs": [
    {
     "data": {
      "text/html": [
       "<div>\n",
       "<style scoped>\n",
       "    .dataframe tbody tr th:only-of-type {\n",
       "        vertical-align: middle;\n",
       "    }\n",
       "\n",
       "    .dataframe tbody tr th {\n",
       "        vertical-align: top;\n",
       "    }\n",
       "\n",
       "    .dataframe thead th {\n",
       "        text-align: right;\n",
       "    }\n",
       "</style>\n",
       "<table border=\"1\" class=\"dataframe\">\n",
       "  <thead>\n",
       "    <tr style=\"text-align: right;\">\n",
       "      <th></th>\n",
       "      <th>Geographic Area</th>\n",
       "      <th>Latitude</th>\n",
       "      <th>Longitude</th>\n",
       "      <th>2021 Population Estimate (as of July 1)</th>\n",
       "    </tr>\n",
       "  </thead>\n",
       "  <tbody>\n",
       "    <tr>\n",
       "      <th>0</th>\n",
       "      <td>Aguilar town</td>\n",
       "      <td>37.40</td>\n",
       "      <td>-104.66</td>\n",
       "      <td>452</td>\n",
       "    </tr>\n",
       "    <tr>\n",
       "      <th>1</th>\n",
       "      <td>Akron town</td>\n",
       "      <td>40.16</td>\n",
       "      <td>-103.22</td>\n",
       "      <td>1,770</td>\n",
       "    </tr>\n",
       "    <tr>\n",
       "      <th>2</th>\n",
       "      <td>Alamosa city</td>\n",
       "      <td>37.47</td>\n",
       "      <td>-105.88</td>\n",
       "      <td>9,814</td>\n",
       "    </tr>\n",
       "    <tr>\n",
       "      <th>3</th>\n",
       "      <td>Alma town</td>\n",
       "      <td>39.29</td>\n",
       "      <td>-106.07</td>\n",
       "      <td>298</td>\n",
       "    </tr>\n",
       "    <tr>\n",
       "      <th>4</th>\n",
       "      <td>Antonito town</td>\n",
       "      <td>37.08</td>\n",
       "      <td>-106.01</td>\n",
       "      <td>647</td>\n",
       "    </tr>\n",
       "    <tr>\n",
       "      <th>...</th>\n",
       "      <td>...</td>\n",
       "      <td>...</td>\n",
       "      <td>...</td>\n",
       "      <td>...</td>\n",
       "    </tr>\n",
       "    <tr>\n",
       "      <th>264</th>\n",
       "      <td>Winter Park town</td>\n",
       "      <td>39.88</td>\n",
       "      <td>-105.78</td>\n",
       "      <td>1,031</td>\n",
       "    </tr>\n",
       "    <tr>\n",
       "      <th>265</th>\n",
       "      <td>Woodland Park city</td>\n",
       "      <td>39.00</td>\n",
       "      <td>-105.06</td>\n",
       "      <td>7,983</td>\n",
       "    </tr>\n",
       "    <tr>\n",
       "      <th>266</th>\n",
       "      <td>Wray city</td>\n",
       "      <td>40.08</td>\n",
       "      <td>-102.23</td>\n",
       "      <td>2,308</td>\n",
       "    </tr>\n",
       "    <tr>\n",
       "      <th>267</th>\n",
       "      <td>Yampa town</td>\n",
       "      <td>40.15</td>\n",
       "      <td>-106.91</td>\n",
       "      <td>407</td>\n",
       "    </tr>\n",
       "    <tr>\n",
       "      <th>268</th>\n",
       "      <td>Yuma city</td>\n",
       "      <td>40.12</td>\n",
       "      <td>-102.72</td>\n",
       "      <td>3,455</td>\n",
       "    </tr>\n",
       "  </tbody>\n",
       "</table>\n",
       "<p>269 rows × 4 columns</p>\n",
       "</div>"
      ],
      "text/plain": [
       "        Geographic Area  Latitude  Longitude  \\\n",
       "0          Aguilar town     37.40    -104.66   \n",
       "1            Akron town     40.16    -103.22   \n",
       "2          Alamosa city     37.47    -105.88   \n",
       "3             Alma town     39.29    -106.07   \n",
       "4         Antonito town     37.08    -106.01   \n",
       "..                  ...       ...        ...   \n",
       "264    Winter Park town     39.88    -105.78   \n",
       "265  Woodland Park city     39.00    -105.06   \n",
       "266           Wray city     40.08    -102.23   \n",
       "267          Yampa town     40.15    -106.91   \n",
       "268           Yuma city     40.12    -102.72   \n",
       "\n",
       "    2021 Population Estimate (as of July 1)  \n",
       "0                                       452  \n",
       "1                                     1,770  \n",
       "2                                     9,814  \n",
       "3                                       298  \n",
       "4                                       647  \n",
       "..                                      ...  \n",
       "264                                   1,031  \n",
       "265                                   7,983  \n",
       "266                                   2,308  \n",
       "267                                     407  \n",
       "268                                   3,455  \n",
       "\n",
       "[269 rows x 4 columns]"
      ]
     },
     "execution_count": 2,
     "metadata": {},
     "output_type": "execute_result"
    }
   ],
   "source": [
    "cities = pd.read_csv('State_Population_Data.csv')\n",
    "cities"
   ]
  },
  {
   "cell_type": "code",
   "execution_count": 3,
   "id": "89dcdaf5",
   "metadata": {},
   "outputs": [],
   "source": [
    "# renaming a column so it's shorter (important for future referencing)\n",
    "cities.rename(columns = {'2021 Population Estimate (as of July 1)' : 'Population'}, inplace = True)"
   ]
  },
  {
   "cell_type": "code",
   "execution_count": 4,
   "id": "31c107ed",
   "metadata": {},
   "outputs": [
    {
     "data": {
      "text/html": [
       "<div>\n",
       "<style scoped>\n",
       "    .dataframe tbody tr th:only-of-type {\n",
       "        vertical-align: middle;\n",
       "    }\n",
       "\n",
       "    .dataframe tbody tr th {\n",
       "        vertical-align: top;\n",
       "    }\n",
       "\n",
       "    .dataframe thead th {\n",
       "        text-align: right;\n",
       "    }\n",
       "</style>\n",
       "<table border=\"1\" class=\"dataframe\">\n",
       "  <thead>\n",
       "    <tr style=\"text-align: right;\">\n",
       "      <th></th>\n",
       "      <th>Geographic Area</th>\n",
       "      <th>Latitude</th>\n",
       "      <th>Longitude</th>\n",
       "      <th>Population</th>\n",
       "    </tr>\n",
       "  </thead>\n",
       "  <tbody>\n",
       "    <tr>\n",
       "      <th>0</th>\n",
       "      <td>Aguilar town</td>\n",
       "      <td>37.40</td>\n",
       "      <td>-104.66</td>\n",
       "      <td>452</td>\n",
       "    </tr>\n",
       "    <tr>\n",
       "      <th>1</th>\n",
       "      <td>Akron town</td>\n",
       "      <td>40.16</td>\n",
       "      <td>-103.22</td>\n",
       "      <td>1,770</td>\n",
       "    </tr>\n",
       "    <tr>\n",
       "      <th>2</th>\n",
       "      <td>Alamosa city</td>\n",
       "      <td>37.47</td>\n",
       "      <td>-105.88</td>\n",
       "      <td>9,814</td>\n",
       "    </tr>\n",
       "    <tr>\n",
       "      <th>3</th>\n",
       "      <td>Alma town</td>\n",
       "      <td>39.29</td>\n",
       "      <td>-106.07</td>\n",
       "      <td>298</td>\n",
       "    </tr>\n",
       "    <tr>\n",
       "      <th>4</th>\n",
       "      <td>Antonito town</td>\n",
       "      <td>37.08</td>\n",
       "      <td>-106.01</td>\n",
       "      <td>647</td>\n",
       "    </tr>\n",
       "    <tr>\n",
       "      <th>...</th>\n",
       "      <td>...</td>\n",
       "      <td>...</td>\n",
       "      <td>...</td>\n",
       "      <td>...</td>\n",
       "    </tr>\n",
       "    <tr>\n",
       "      <th>264</th>\n",
       "      <td>Winter Park town</td>\n",
       "      <td>39.88</td>\n",
       "      <td>-105.78</td>\n",
       "      <td>1,031</td>\n",
       "    </tr>\n",
       "    <tr>\n",
       "      <th>265</th>\n",
       "      <td>Woodland Park city</td>\n",
       "      <td>39.00</td>\n",
       "      <td>-105.06</td>\n",
       "      <td>7,983</td>\n",
       "    </tr>\n",
       "    <tr>\n",
       "      <th>266</th>\n",
       "      <td>Wray city</td>\n",
       "      <td>40.08</td>\n",
       "      <td>-102.23</td>\n",
       "      <td>2,308</td>\n",
       "    </tr>\n",
       "    <tr>\n",
       "      <th>267</th>\n",
       "      <td>Yampa town</td>\n",
       "      <td>40.15</td>\n",
       "      <td>-106.91</td>\n",
       "      <td>407</td>\n",
       "    </tr>\n",
       "    <tr>\n",
       "      <th>268</th>\n",
       "      <td>Yuma city</td>\n",
       "      <td>40.12</td>\n",
       "      <td>-102.72</td>\n",
       "      <td>3,455</td>\n",
       "    </tr>\n",
       "  </tbody>\n",
       "</table>\n",
       "<p>269 rows × 4 columns</p>\n",
       "</div>"
      ],
      "text/plain": [
       "        Geographic Area  Latitude  Longitude Population\n",
       "0          Aguilar town     37.40    -104.66        452\n",
       "1            Akron town     40.16    -103.22      1,770\n",
       "2          Alamosa city     37.47    -105.88      9,814\n",
       "3             Alma town     39.29    -106.07        298\n",
       "4         Antonito town     37.08    -106.01        647\n",
       "..                  ...       ...        ...        ...\n",
       "264    Winter Park town     39.88    -105.78      1,031\n",
       "265  Woodland Park city     39.00    -105.06      7,983\n",
       "266           Wray city     40.08    -102.23      2,308\n",
       "267          Yampa town     40.15    -106.91        407\n",
       "268           Yuma city     40.12    -102.72      3,455\n",
       "\n",
       "[269 rows x 4 columns]"
      ]
     },
     "execution_count": 4,
     "metadata": {},
     "output_type": "execute_result"
    }
   ],
   "source": [
    "cities"
   ]
  },
  {
   "cell_type": "code",
   "execution_count": 5,
   "id": "4de83717",
   "metadata": {
    "scrolled": true
   },
   "outputs": [
    {
     "data": {
      "text/plain": [
       "Index(['Geographic Area', 'Latitude', 'Longitude', 'Population'], dtype='object')"
      ]
     },
     "execution_count": 5,
     "metadata": {},
     "output_type": "execute_result"
    }
   ],
   "source": [
    "cities.columns"
   ]
  },
  {
   "cell_type": "markdown",
   "id": "b94fe3ca",
   "metadata": {},
   "source": [
    "Assign `Latitude`, `Longitude`, and `Population` to different variables"
   ]
  },
  {
   "cell_type": "code",
   "execution_count": 6,
   "id": "03adecac",
   "metadata": {},
   "outputs": [],
   "source": [
    "latitude = cities['Latitude']"
   ]
  },
  {
   "cell_type": "code",
   "execution_count": 7,
   "id": "82d96bce",
   "metadata": {},
   "outputs": [],
   "source": [
    "longitude = cities['Longitude']"
   ]
  },
  {
   "cell_type": "code",
   "execution_count": 8,
   "id": "426513ae",
   "metadata": {},
   "outputs": [],
   "source": [
    "population = cities['Population']"
   ]
  },
  {
   "cell_type": "markdown",
   "id": "ab409a57",
   "metadata": {},
   "source": []
  },
  {
   "cell_type": "code",
   "execution_count": 9,
   "id": "1edcf9de",
   "metadata": {},
   "outputs": [],
   "source": [
    "# get rid of all commas for equations later\n",
    "cities.replace(',','', regex=True, inplace=True)"
   ]
  },
  {
   "cell_type": "code",
   "execution_count": 10,
   "id": "91d95c85",
   "metadata": {},
   "outputs": [
    {
     "data": {
      "text/html": [
       "<div>\n",
       "<style scoped>\n",
       "    .dataframe tbody tr th:only-of-type {\n",
       "        vertical-align: middle;\n",
       "    }\n",
       "\n",
       "    .dataframe tbody tr th {\n",
       "        vertical-align: top;\n",
       "    }\n",
       "\n",
       "    .dataframe thead th {\n",
       "        text-align: right;\n",
       "    }\n",
       "</style>\n",
       "<table border=\"1\" class=\"dataframe\">\n",
       "  <thead>\n",
       "    <tr style=\"text-align: right;\">\n",
       "      <th></th>\n",
       "      <th>Geographic Area</th>\n",
       "      <th>Latitude</th>\n",
       "      <th>Longitude</th>\n",
       "      <th>Population</th>\n",
       "    </tr>\n",
       "  </thead>\n",
       "  <tbody>\n",
       "    <tr>\n",
       "      <th>0</th>\n",
       "      <td>Aguilar town</td>\n",
       "      <td>37.40</td>\n",
       "      <td>-104.66</td>\n",
       "      <td>452</td>\n",
       "    </tr>\n",
       "    <tr>\n",
       "      <th>1</th>\n",
       "      <td>Akron town</td>\n",
       "      <td>40.16</td>\n",
       "      <td>-103.22</td>\n",
       "      <td>1770</td>\n",
       "    </tr>\n",
       "    <tr>\n",
       "      <th>2</th>\n",
       "      <td>Alamosa city</td>\n",
       "      <td>37.47</td>\n",
       "      <td>-105.88</td>\n",
       "      <td>9814</td>\n",
       "    </tr>\n",
       "    <tr>\n",
       "      <th>3</th>\n",
       "      <td>Alma town</td>\n",
       "      <td>39.29</td>\n",
       "      <td>-106.07</td>\n",
       "      <td>298</td>\n",
       "    </tr>\n",
       "    <tr>\n",
       "      <th>4</th>\n",
       "      <td>Antonito town</td>\n",
       "      <td>37.08</td>\n",
       "      <td>-106.01</td>\n",
       "      <td>647</td>\n",
       "    </tr>\n",
       "  </tbody>\n",
       "</table>\n",
       "</div>"
      ],
      "text/plain": [
       "  Geographic Area  Latitude  Longitude Population\n",
       "0    Aguilar town     37.40    -104.66        452\n",
       "1      Akron town     40.16    -103.22       1770\n",
       "2    Alamosa city     37.47    -105.88       9814\n",
       "3       Alma town     39.29    -106.07        298\n",
       "4   Antonito town     37.08    -106.01        647"
      ]
     },
     "execution_count": 10,
     "metadata": {},
     "output_type": "execute_result"
    }
   ],
   "source": [
    "cities.head()"
   ]
  },
  {
   "cell_type": "code",
   "execution_count": 11,
   "id": "cd5e776b",
   "metadata": {},
   "outputs": [],
   "source": [
    "# setting cities['Population'] to be a float because we'll need it later for running equations\n",
    "cities['Population'] = cities['Population'].astype('float')"
   ]
  },
  {
   "cell_type": "code",
   "execution_count": 12,
   "id": "3ad59cd7",
   "metadata": {},
   "outputs": [],
   "source": [
    "population = cities['Population'].astype('float')"
   ]
  },
  {
   "cell_type": "code",
   "execution_count": 13,
   "id": "8016172b",
   "metadata": {},
   "outputs": [
    {
     "data": {
      "text/html": [
       "<div>\n",
       "<style scoped>\n",
       "    .dataframe tbody tr th:only-of-type {\n",
       "        vertical-align: middle;\n",
       "    }\n",
       "\n",
       "    .dataframe tbody tr th {\n",
       "        vertical-align: top;\n",
       "    }\n",
       "\n",
       "    .dataframe thead th {\n",
       "        text-align: right;\n",
       "    }\n",
       "</style>\n",
       "<table border=\"1\" class=\"dataframe\">\n",
       "  <thead>\n",
       "    <tr style=\"text-align: right;\">\n",
       "      <th></th>\n",
       "      <th>Geographic Area</th>\n",
       "      <th>Latitude</th>\n",
       "      <th>Longitude</th>\n",
       "      <th>Population</th>\n",
       "    </tr>\n",
       "  </thead>\n",
       "  <tbody>\n",
       "    <tr>\n",
       "      <th>0</th>\n",
       "      <td>Aguilar town</td>\n",
       "      <td>37.40</td>\n",
       "      <td>-104.66</td>\n",
       "      <td>452.0</td>\n",
       "    </tr>\n",
       "    <tr>\n",
       "      <th>1</th>\n",
       "      <td>Akron town</td>\n",
       "      <td>40.16</td>\n",
       "      <td>-103.22</td>\n",
       "      <td>1770.0</td>\n",
       "    </tr>\n",
       "    <tr>\n",
       "      <th>2</th>\n",
       "      <td>Alamosa city</td>\n",
       "      <td>37.47</td>\n",
       "      <td>-105.88</td>\n",
       "      <td>9814.0</td>\n",
       "    </tr>\n",
       "    <tr>\n",
       "      <th>3</th>\n",
       "      <td>Alma town</td>\n",
       "      <td>39.29</td>\n",
       "      <td>-106.07</td>\n",
       "      <td>298.0</td>\n",
       "    </tr>\n",
       "    <tr>\n",
       "      <th>4</th>\n",
       "      <td>Antonito town</td>\n",
       "      <td>37.08</td>\n",
       "      <td>-106.01</td>\n",
       "      <td>647.0</td>\n",
       "    </tr>\n",
       "  </tbody>\n",
       "</table>\n",
       "</div>"
      ],
      "text/plain": [
       "  Geographic Area  Latitude  Longitude  Population\n",
       "0    Aguilar town     37.40    -104.66       452.0\n",
       "1      Akron town     40.16    -103.22      1770.0\n",
       "2    Alamosa city     37.47    -105.88      9814.0\n",
       "3       Alma town     39.29    -106.07       298.0\n",
       "4   Antonito town     37.08    -106.01       647.0"
      ]
     },
     "execution_count": 13,
     "metadata": {},
     "output_type": "execute_result"
    }
   ],
   "source": [
    "cities.head()"
   ]
  },
  {
   "cell_type": "code",
   "execution_count": 14,
   "id": "c8accc24",
   "metadata": {
    "scrolled": true
   },
   "outputs": [],
   "source": [
    "# need to download geopandas because it is not pre-installed with Anaconda\n",
    "import numpy as np\n",
    "import matplotlib.pyplot as plt\n",
    "import seaborn as sns\n",
    "import geopandas as gpd"
   ]
  },
  {
   "cell_type": "code",
   "execution_count": 15,
   "id": "03f0d384",
   "metadata": {},
   "outputs": [],
   "source": [
    "# read file similar to pd.read_csv\n",
    "county_borders = gpd.read_file('Colorado_County_Boundaries.geojson')"
   ]
  },
  {
   "cell_type": "code",
   "execution_count": 16,
   "id": "edb4955b",
   "metadata": {},
   "outputs": [
    {
     "data": {
      "image/png": "[encoded data removed]",
      "text/plain": [
       "<Figure size 432x288 with 2 Axes>"
      ]
     },
     "metadata": {
      "needs_background": "light"
     },
     "output_type": "display_data"
    }
   ],
   "source": [
    "# show county borders in black\n",
    "county_borders.plot(edgecolor='black', facecolor='none')\n",
    "\n",
    "# create a scatterplot for the cities Colorado\n",
    "plt.scatter(longitude, latitude, label = None, # call in our variables from before, no labels\n",
    "            # linewidth thin, alpha is opaqueness, c is a log for the population (makes it easier to have a scale)\n",
    "            linewidth = 0, alpha = 0.5, c = np.log10(population))\n",
    "\n",
    "# use this to remove gridlines\n",
    "plt.grid(False)\n",
    "\n",
    "# use this to create a colorbar legend for population\n",
    "plt.colorbar(label='log$_{10}$(population)')\n",
    "\n",
    "# labels and title\n",
    "plt.xlabel('Longitude')\n",
    "plt.ylabel('Latitude')\n",
    "plt.title('Population Map of Colorado')\n",
    "plt.show()"
   ]
  },
  {
   "cell_type": "code",
   "execution_count": null,
   "id": "2eefb556",
   "metadata": {},
   "outputs": [],
   "source": []
  }
 ],
 "metadata": {
  "kernelspec": {
   "display_name": "Python 3 (ipykernel)",
   "language": "python",
   "name": "python3"
  },
  "language_info": {
   "codemirror_mode": {
    "name": "ipython",
    "version": 3
   },
   "file_extension": ".py",
   "mimetype": "text/x-python",
   "name": "python",
   "nbconvert_exporter": "python",
   "pygments_lexer": "ipython3",
   "version": "3.9.12"
  }
 },
 "nbformat": 4,
 "nbformat_minor": 5
}
